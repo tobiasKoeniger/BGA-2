{
 "cells": [
  {
   "cell_type": "markdown",
   "metadata": {},
   "source": [
    "# Übung 2 Detektion von Verkehrsschildern"
   ]
  },
  {
   "cell_type": "markdown",
   "metadata": {},
   "source": [
    "**German Traffic Sign Detection Benchmark**\n",
    "\n",
    "Detallierte Beschreibung des Datensatzes siehe unter folgendem [Link](http://benchmark.ini.rub.de/?section=gtsdb&subsection=news)"
   ]
  },
  {
   "cell_type": "markdown",
   "metadata": {},
   "source": [
    "## Imports"
   ]
  },
  {
   "cell_type": "code",
   "execution_count": 1,
   "metadata": {},
   "outputs": [],
   "source": [
    "import os\n",
    "\n",
    "import csv\n",
    "import wget\n",
    "import cv2\n",
    "import math\n",
    "import numpy as np\n",
    "import pandas as pd\n",
    "import matplotlib.pyplot as plt\n",
    "from IPython.display import display\n",
    "from ipywidgets import interact, interactive, fixed, interact_manual, widgets"
   ]
  },
  {
   "cell_type": "code",
   "execution_count": 2,
   "metadata": {},
   "outputs": [
    {
     "data": {
      "application/vnd.jupyter.widget-view+json": {
       "model_id": "3529401a4a604dcf818f89138c4ea38e",
       "version_major": 2,
       "version_minor": 0
      },
      "text/plain": [
       "interactive(children=(IntSlider(value=10, description='x', max=30, min=-10), Output()), _dom_classes=('widget-…"
      ]
     },
     "metadata": {},
     "output_type": "display_data"
    }
   ],
   "source": [
    "# Testfunktion für ipywidgets: \n",
    "# Es soll ein Slider angezeigt werden. Der Wertebereich des Sliders\n",
    "# soll zwischen -10(min) und 30(max) liegen. \n",
    "# Entsprechend der Sliderposition soll ein Ergebniswert angezeigt werden.\n",
    "def f(x):\n",
    "    return 3 * x\n",
    "interact(f, x= 10);"
   ]
  },
  {
   "cell_type": "markdown",
   "metadata": {},
   "source": [
    "## Globale Variablen\n",
    "\n",
    "Um hartcodierte Bezeichner/Namen in den Funktionen zu vermeiden, definiere an dieser Stelle alle Variablen, die global verwendet werden."
   ]
  },
  {
   "cell_type": "code",
   "execution_count": 3,
   "metadata": {},
   "outputs": [],
   "source": [
    "# Definiere den Pfad zum heruntergeladenen Datenordner\n",
    "DATA_PATH = 'FullIJCNN2013'\n",
    "\n",
    "# Prüfe, ob der Pfad existiert / korrekt eingegeben wurde\n",
    "assert os.path.exists(DATA_PATH), \"Der angegebene Pfad existriert nicht.\""
   ]
  },
  {
   "cell_type": "code",
   "execution_count": 4,
   "metadata": {},
   "outputs": [],
   "source": [
    "# Definiere den Pfad zur Datei gt.txt\n",
    "GT_TXT_PATH = os.path.join(DATA_PATH, 'gt.txt')\n",
    "assert os.path.exists(GT_TXT_PATH), \"Der angegebene Pfad existriert nicht.\""
   ]
  },
  {
   "cell_type": "code",
   "execution_count": 5,
   "metadata": {},
   "outputs": [],
   "source": [
    "# Prohibitory Class IDs \n",
    "PROHIBITORY_CLASS_IDs = [ 0, 1, 2, 3, 4, 5, 7, 8, 9, 10, 15, 16]\n",
    "\n",
    "# Mandatory Class IDs\n",
    "MANDATORY_CLASS_IDs = [ 33, 34, 35, 36, 37, 38, 39, 40 ]\n",
    "\n",
    "# Danger Class IDs\n",
    "DANGER_CLASS_IDs = [ 11, 18, 19, 20, 21, 22, 23, 24, 25, 26, 27, 28, 29, 30, 31 ]"
   ]
  },
  {
   "cell_type": "code",
   "execution_count": 6,
   "metadata": {},
   "outputs": [],
   "source": [
    "# Prohibitory-Dictionary \n",
    "PROHIBITORY_DICT = {}"
   ]
  },
  {
   "cell_type": "code",
   "execution_count": 7,
   "metadata": {},
   "outputs": [],
   "source": [
    "# Prohibitory images (filenames) list\n",
    "PROHIBITORY_IMG_LIST = []"
   ]
  },
  {
   "cell_type": "code",
   "execution_count": 8,
   "metadata": {},
   "outputs": [],
   "source": [
    "# Prohibitory filepaths\n",
    "PROHIBITORY_FILEPATHS = []"
   ]
  },
  {
   "cell_type": "markdown",
   "metadata": {},
   "source": [
    "## Aufgabe 1 - Aussortieren bestimmter Verkehrsschilder"
   ]
  },
  {
   "cell_type": "code",
   "execution_count": 9,
   "metadata": {},
   "outputs": [],
   "source": [
    "def calculate_prohibitory(): \n",
    "    \"\"\"\n",
    "    Sortiert Verkehrszeichen nach der Kategorie „prohibitory“ und speichert \n",
    "    die Ergebnisse in ein Dictionary.\n",
    "    Das Dictionary beinhaltet Dateinamen als Schlüssel und Listen von \n",
    "    Ground Thruth ROIs-Listen als Values.\n",
    "    \"\"\"\n",
    "    \n",
    "    # Setze prohibitory dictionary zurück\n",
    "    PROHIBITORY_DICT.clear()\n",
    "    \n",
    "    # Öffne die gt.txt-Datei\n",
    "    with open(GT_TXT_PATH, newline='') as csvfile:\n",
    "        gt_reader = csv.reader(csvfile, delimiter=';')\n",
    "        pic_name=''\n",
    "        values=list()\n",
    "        # Bau eine Schleife, um die Daten Zeile für Zeile auszulesen \n",
    "        # und die entsprechende Liste der ROIs für die Datei zu füllen\n",
    "        for row in gt_reader:\n",
    "            ### TO DO ###\n",
    "            if int(row[-1]) in PROHIBITORY_CLASS_IDs:\n",
    "                values=[[int(a) for a in row[1:]]] if pic_name !=row[0] else values+[[int(a) for a in row[1:]]]\n",
    "                pic_name=row[0]\n",
    "                PROHIBITORY_DICT[pic_name]=values\n",
    "\n",
    "                "
   ]
  },
  {
   "cell_type": "code",
   "execution_count": 10,
   "metadata": {},
   "outputs": [
    {
     "name": "stdout",
     "output_type": "stream",
     "text": [
      "{'00003.ppm': [[742, 443, 765, 466, 4], [742, 466, 764, 489, 9]], '00004.ppm': [[906, 407, 955, 459, 2]], '00005.ppm': [[1172, 164, 1284, 278, 9]], '00006.ppm': [[926, 350, 989, 414, 2]], '00007.ppm': [[825, 406, 864, 445, 9]], '00008.ppm': [[785, 460, 811, 486, 2]], '00009.ppm': [[925, 466, 949, 490, 4]], '00011.ppm': [[720, 338, 770, 398, 1]], '00012.ppm': [[979, 364, 1034, 418, 1]], '00013.ppm': [[1043, 281, 1120, 356, 2]], '00018.ppm': [[950, 455, 981, 486, 4]], '00019.ppm': [[845, 423, 888, 465, 2]], '00023.ppm': [[998, 292, 1074, 371, 1]], '00026.ppm': [[453, 411, 492, 451, 1]], '00027.ppm': [[969, 386, 1024, 441, 2], [102, 375, 157, 430, 2]], '00029.ppm': [[1091, 393, 1133, 436, 15]], '00053.ppm': [[1156, 333, 1196, 372, 15]], '00054.ppm': [[1117, 473, 1146, 502, 0]], '00056.ppm': [[729, 436, 760, 467, 1]], '00057.ppm': [[990, 418, 1036, 467, 1]], '00060.ppm': [[819, 441, 842, 464, 2]], '00061.ppm': [[1224, 333, 1285, 394, 2]], '00063.ppm': [[815, 499, 837, 521, 9]], '00064.ppm': [[786, 447, 808, 470, 2]], '00065.ppm': [[973, 377, 1022, 427, 9]], '00067.ppm': [[949, 435, 979, 465, 9]], '00069.ppm': [[817, 459, 838, 480, 2]], '00071.ppm': [[794, 474, 822, 502, 1], [794, 503, 821, 529, 9]], '00072.ppm': [[836, 456, 858, 478, 4]], '00073.ppm': [[727, 457, 748, 477, 2], [727, 476, 749, 497, 9], [430, 453, 452, 475, 2], [432, 475, 452, 495, 9]], '00075.ppm': [[1131, 409, 1179, 456, 4]], '00076.ppm': [[789, 471, 815, 495, 2]], '00077.ppm': [[962, 408, 1011, 455, 9]], '00080.ppm': [[829, 381, 880, 432, 9]], '00085.ppm': [[846, 429, 875, 458, 1]], '00088.ppm': [[956, 464, 982, 490, 10], [410, 464, 436, 490, 10], [412, 440, 436, 464, 8], [956, 440, 981, 464, 8]], '00089.ppm': [[1025, 438, 1054, 468, 5], [634, 447, 660, 474, 5]], '00093.ppm': [[344, 397, 379, 436, 1], [1076, 339, 1119, 389, 1]], '00094.ppm': [[946, 370, 995, 419, 16], [113, 316, 189, 392, 16]], '00095.ppm': [[698, 461, 719, 481, 1]], '00101.ppm': [[835, 406, 891, 461, 5]], '00107.ppm': [[490, 536, 529, 576, 1]], '00109.ppm': [[990, 484, 1020, 513, 3]], '00110.ppm': [[929, 489, 954, 513, 9]], '00111.ppm': [[1091, 465, 1123, 497, 3], [350, 503, 382, 535, 3]], '00112.ppm': [[366, 473, 399, 508, 3], [1186, 475, 1225, 514, 3]], '00113.ppm': [[351, 413, 419, 480, 10]], '00114.ppm': [[1169, 421, 1231, 484, 3]], '00120.ppm': [[58, 243, 164, 345, 2]], '00121.ppm': [[91, 308, 185, 416, 7]], '00122.ppm': [[500, 496, 521, 518, 7], [883, 498, 904, 520, 7]], '00123.ppm': [[519, 492, 550, 524, 7], [1101, 483, 1133, 516, 7]], '00124.ppm': [[532, 481, 558, 507, 4], [976, 470, 1002, 496, 4]], '00125.ppm': [[1019, 313, 1106, 401, 2]], '00126.ppm': [[840, 374, 868, 404, 2], [379, 365, 411, 396, 2]], '00127.ppm': [[138, 385, 175, 423, 5], [1009, 380, 1046, 417, 5]], '00129.ppm': [[962, 379, 1008, 426, 9]], '00130.ppm': [[209, 426, 236, 453, 1], [601, 431, 626, 456, 1]], '00131.ppm': [[1010, 430, 1034, 455, 9], [474, 389, 500, 415, 1]], '00134.ppm': [[1008, 299, 1073, 365, 1]], '00135.ppm': [[718, 298, 777, 356, 1]], '00138.ppm': [[157, 179, 235, 268, 15], [1302, 399, 1336, 432, 15]], '00141.ppm': [[857, 379, 894, 416, 2]], '00142.ppm': [[816, 454, 835, 473, 2]], '00144.ppm': [[708, 445, 727, 464, 4]], '00146.ppm': [[711, 427, 729, 445, 2]], '00149.ppm': [[1131, 274, 1221, 361, 4]], '00150.ppm': [[824, 345, 865, 386, 2]], '00151.ppm': [[794, 372, 824, 401, 1]], '00156.ppm': [[819, 388, 848, 417, 9]], '00157.ppm': [[262, 423, 297, 460, 9], [885, 392, 926, 432, 9]], '00165.ppm': [[382, 412, 399, 431, 1]], '00166.ppm': [[814, 382, 848, 416, 1]], '00167.ppm': [[369, 446, 392, 469, 2], [729, 433, 750, 455, 2]], '00169.ppm': [[1089, 153, 1212, 276, 2]], '00170.ppm': [[912, 322, 944, 358, 4]], '00171.ppm': [[882, 335, 932, 385, 4], [883, 385, 932, 433, 9]], '00172.ppm': [[718, 418, 737, 437, 1]], '00173.ppm': [[1111, 279, 1161, 329, 1]], '00174.ppm': [[723, 443, 747, 467, 2]], '00175.ppm': [[893, 341, 944, 396, 9]], '00176.ppm': [[850, 414, 875, 440, 2]], '00178.ppm': [[728, 456, 748, 476, 2]], '00180.ppm': [[968, 384, 1004, 421, 2]], '00181.ppm': [[793, 299, 853, 359, 4]], '00182.ppm': [[656, 412, 685, 441, 2]], '00184.ppm': [[790, 273, 850, 334, 1]], '00185.ppm': [[967, 150, 1076, 257, 2]], '00186.ppm': [[603, 455, 621, 474, 4], [325, 428, 345, 448, 4]], '00187.ppm': [[675, 405, 709, 439, 2], [161, 393, 194, 428, 2]], '00192.ppm': [[314, 440, 334, 461, 1]], '00203.ppm': [[758, 375, 784, 400, 0]], '00204.ppm': [[858, 151, 946, 242, 1]], '00216.ppm': [[312, 442, 337, 467, 5], [886, 446, 911, 472, 5]], '00217.ppm': [[971, 267, 1031, 328, 1]], '00220.ppm': [[1127, 285, 1168, 326, 1]], '00222.ppm': [[985, 354, 1022, 390, 1]], '00223.ppm': [[816, 334, 858, 374, 1]], '00224.ppm': [[923, 276, 977, 341, 1], [977, 263, 1042, 333, 9]], '00225.ppm': [[856, 268, 924, 334, 1]], '00226.ppm': [[1152, 224, 1220, 290, 1]], '00228.ppm': [[937, 295, 998, 356, 1]], '00229.ppm': [[1273, 384, 1305, 417, 1], [1305, 382, 1341, 414, 9]], '00230.ppm': [[974, 398, 1002, 426, 1]], '00231.ppm': [[1146, 362, 1183, 399, 1]], '00234.ppm': [[1051, 275, 1115, 338, 1]], '00238.ppm': [[849, 443, 877, 471, 1]], '00239.ppm': [[792, 439, 812, 458, 1]], '00240.ppm': [[847, 364, 879, 396, 1]], '00241.ppm': [[838, 400, 880, 442, 2]], '00242.ppm': [[848, 388, 870, 413, 15]], '00243.ppm': [[843, 447, 867, 470, 2]], '00244.ppm': [[491, 390, 530, 429, 10], [1238, 349, 1282, 394, 10]], '00245.ppm': [[477, 442, 499, 464, 10], [851, 438, 874, 461, 10]], '00246.ppm': [[311, 381, 354, 425, 10], [1091, 354, 1134, 396, 10]], '00247.ppm': [[471, 453, 492, 474, 5], [856, 448, 877, 469, 5]], '00248.ppm': [[204, 452, 229, 479, 5], [843, 429, 870, 456, 5]], '00249.ppm': [[1212, 419, 1244, 452, 2]], '00250.ppm': [[907, 446, 932, 471, 2]], '00252.ppm': [[915, 389, 960, 434, 9], [910, 326, 956, 372, 1]], '00253.ppm': [[1186, 134, 1301, 244, 9]], '00254.ppm': [[1172, 270, 1237, 336, 2]], '00259.ppm': [[1202, 329, 1247, 374, 1]], '00260.ppm': [[720, 266, 784, 330, 0]], '00263.ppm': [[646, 417, 666, 437, 2]], '00264.ppm': [[964, 412, 988, 435, 4], [965, 435, 988, 458, 9], [509, 466, 531, 488, 9]], '00265.ppm': [[805, 458, 827, 480, 1]], '00268.ppm': [[891, 396, 917, 422, 2]], '00269.ppm': [[966, 430, 990, 454, 9]], '00270.ppm': [[243, 335, 293, 386, 2], [1237, 279, 1291, 332, 2]], '00271.ppm': [[259, 369, 297, 408, 2], [1090, 341, 1130, 381, 2]], '00274.ppm': [[975, 395, 1011, 430, 0]], '00277.ppm': [[1048, 399, 1071, 422, 16]], '00280.ppm': [[1054, 392, 1083, 422, 2]], '00281.ppm': [[984, 392, 1017, 425, 2]], '00283.ppm': [[1177, 114, 1284, 219, 4]], '00284.ppm': [[993, 347, 1051, 404, 2]], '00287.ppm': [[1113, 370, 1154, 411, 2]], '00288.ppm': [[413, 456, 436, 479, 5], [983, 438, 1006, 462, 5]], '00290.ppm': [[1294, 391, 1326, 428, 5]], '00291.ppm': [[1129, 384, 1165, 422, 3]], '00292.ppm': [[982, 422, 1011, 451, 8], [315, 447, 345, 476, 8]], '00293.ppm': [[28, 410, 70, 456, 7], [1143, 365, 1193, 415, 7]], '00296.ppm': [[460, 409, 492, 442, 7], [1237, 385, 1269, 417, 7]], '00298.ppm': [[1238, 256, 1314, 331, 2]], '00300.ppm': [[779, 420, 801, 443, 2]], '00301.ppm': [[1075, 318, 1125, 368, 2]], '00303.ppm': [[1186, 385, 1215, 414, 2]], '00309.ppm': [[180, 388, 220, 431, 7], [1159, 353, 1203, 398, 7]], '00311.ppm': [[616, 424, 650, 458, 8], [1295, 391, 1329, 425, 8]], '00312.ppm': [[122, 267, 225, 379, 5]], '00314.ppm': [[1213, 398, 1247, 434, 5], [396, 451, 429, 485, 5]], '00316.ppm': [[696, 436, 719, 458, 3], [995, 421, 1020, 445, 3]], '00318.ppm': [[631, 451, 657, 477, 15]], '00319.ppm': [[1201, 403, 1248, 450, 3], [569, 436, 612, 481, 3]], '00322.ppm': [[1166, 327, 1209, 370, 5], [338, 406, 381, 449, 5]], '00323.ppm': [[398, 437, 425, 464, 10], [854, 438, 881, 466, 10]], '00330.ppm': [[1050, 313, 1116, 381, 2]], '00334.ppm': [[323, 452, 369, 498, 15], [760, 435, 797, 472, 2]], '00338.ppm': [[505, 425, 536, 453, 2], [1000, 426, 1029, 453, 2]], '00339.ppm': [[627, 442, 660, 476, 1]], '00343.ppm': [[802, 531, 829, 558, 15], [483, 507, 512, 536, 15]], '00346.ppm': [[291, 541, 321, 571, 5], [883, 542, 911, 570, 5]], '00348.ppm': [[952, 524, 990, 562, 5]], '00349.ppm': [[53, 455, 114, 514, 10], [1244, 465, 1312, 534, 10]], '00350.ppm': [[475, 543, 508, 576, 10], [1092, 542, 1125, 573, 10]], '00351.ppm': [[511, 533, 538, 560, 5]], '00353.ppm': [[836, 554, 860, 578, 10], [456, 559, 477, 581, 10]], '00355.ppm': [[474, 537, 507, 570, 10]], '00357.ppm': [[1095, 524, 1130, 560, 10], [463, 528, 500, 565, 10]], '00358.ppm': [[316, 490, 374, 549, 8]], '00359.ppm': [[879, 559, 903, 583, 8], [467, 560, 492, 585, 8]], '00360.ppm': [[1032, 484, 1076, 528, 8], [253, 502, 296, 545, 8]], '00363.ppm': [[407, 483, 450, 526, 8], [409, 525, 453, 568, 10]], '00366.ppm': [[517, 530, 540, 553, 8], [518, 553, 541, 576, 10], [988, 550, 1014, 573, 8], [988, 574, 1015, 597, 10]], '00367.ppm': [[1028, 501, 1068, 541, 8], [1028, 542, 1071, 583, 10], [230, 488, 274, 530, 8], [235, 533, 276, 573, 10]], '00368.ppm': [[382, 460, 431, 510, 8], [378, 509, 431, 561, 10]], '00369.ppm': [[521, 544, 542, 564, 8], [520, 564, 543, 585, 10], [874, 532, 895, 551, 8], [875, 550, 896, 571, 10]], '00370.ppm': [[880, 536, 904, 559, 8], [880, 558, 907, 584, 10], [440, 531, 467, 554, 8], [442, 553, 468, 578, 10]], '00371.ppm': [[316, 521, 372, 577, 5]], '00372.ppm': [[974, 486, 1017, 529, 4]], '00373.ppm': [[164, 517, 195, 548, 4], [819, 511, 853, 545, 4]], '00377.ppm': [[1133, 504, 1172, 543, 8], [239, 490, 278, 531, 8], [1133, 543, 1172, 582, 10], [236, 532, 277, 573, 10]], '00378.ppm': [[23, 362, 142, 480, 10], [22, 242, 145, 362, 8]], '00379.ppm': [[186, 458, 232, 504, 8], [1064, 488, 1112, 536, 10], [185, 503, 232, 550, 10], [1062, 442, 1109, 489, 8]], '00380.ppm': [[551, 559, 575, 583, 10], [953, 564, 976, 587, 10], [952, 540, 975, 563, 8], [551, 535, 575, 559, 8]], '00382.ppm': [[445, 490, 485, 530, 8], [446, 529, 485, 568, 10], [1209, 496, 1248, 535, 8], [1211, 533, 1250, 572, 10]], '00384.ppm': [[1199, 416, 1263, 480, 8], [1202, 479, 1267, 544, 10]], '00385.ppm': [[977, 529, 1016, 568, 8], [267, 531, 307, 571, 8]], '00386.ppm': [[555, 561, 580, 586, 10], [977, 550, 1000, 573, 10]], '00390.ppm': [[455, 502, 503, 550, 8], [1219, 494, 1265, 541, 8]], '00392.ppm': [[358, 443, 423, 512, 7]], '00396.ppm': [[192, 484, 238, 531, 7], [998, 468, 1046, 516, 7]], '00397.ppm': [[949, 559, 983, 593, 10], [947, 524, 982, 559, 4]], '00398.ppm': [[771, 538, 795, 560, 4], [772, 558, 796, 582, 10]], '00401.ppm': [[420, 496, 461, 537, 4], [1122, 497, 1163, 538, 4]], '00403.ppm': [[568, 540, 592, 564, 4], [939, 532, 965, 559, 4]], '00404.ppm': [[335, 415, 396, 476, 4], [1255, 415, 1312, 472, 4]], '00405.ppm': [[1255, 470, 1309, 525, 4], [355, 444, 411, 499, 4]], '00412.ppm': [[1002, 499, 1047, 545, 7]], '00413.ppm': [[1038, 480, 1084, 529, 3]], '00414.ppm': [[1032, 421, 1078, 468, 3]], '00415.ppm': [[827, 549, 849, 571, 9]], '00416.ppm': [[813, 505, 851, 543, 3]], '00418.ppm': [[460, 563, 482, 585, 8]], '00419.ppm': [[979, 489, 1025, 537, 7]], '00420.ppm': [[828, 542, 851, 565, 3], [361, 548, 383, 570, 3]], '00425.ppm': [[302, 503, 342, 543, 5], [900, 500, 941, 541, 5], [302, 543, 342, 583, 10], [903, 541, 944, 582, 10]], '00427.ppm': [[294, 383, 388, 479, 5]], '00428.ppm': [[325, 548, 353, 576, 7], [937, 543, 966, 572, 7]], '00431.ppm': [[275, 527, 314, 564, 8], [1141, 496, 1179, 536, 8]], '00432.ppm': [[237, 560, 263, 586, 8], [942, 512, 970, 540, 8]], '00434.ppm': [[167, 194, 257, 286, 5]], '00435.ppm': [[834, 535, 862, 564, 9]], '00436.ppm': [[794, 531, 816, 553, 5]], '00439.ppm': [[1194, 504, 1251, 564, 8]], '00441.ppm': [[1063, 531, 1112, 580, 8]], '00443.ppm': [[823, 579, 843, 598, 8], [477, 578, 497, 596, 8]], '00444.ppm': [[389, 569, 419, 600, 7], [972, 572, 1001, 601, 7]], '00445.ppm': [[1021, 498, 1066, 544, 5], [213, 519, 254, 561, 5]], '00456.ppm': [[421, 414, 476, 470, 3]], '00457.ppm': [[1243, 418, 1301, 475, 2], [517, 466, 554, 504, 2]], '00459.ppm': [[884, 548, 909, 573, 1]], '00467.ppm': [[1132, 501, 1168, 537, 3]], '00468.ppm': [[1128, 506, 1165, 544, 3]], '00470.ppm': [[823, 489, 847, 513, 1]], '00473.ppm': [[507, 532, 540, 565, 10], [1152, 506, 1184, 538, 10]], '00474.ppm': [[1242, 549, 1274, 581, 7], [514, 569, 545, 600, 7]], '00475.ppm': [[1233, 468, 1310, 543, 7]], '00476.ppm': [[163, 518, 199, 555, 7], [1152, 523, 1187, 558, 7]], '00477.ppm': [[298, 506, 338, 546, 5]], '00478.ppm': [[921, 470, 963, 512, 5], [218, 483, 258, 523, 5]], '00480.ppm': [[1055, 444, 1103, 492, 2]], '00483.ppm': [[150, 510, 203, 563, 7], [1182, 531, 1232, 583, 7]], '00484.ppm': [[339, 509, 372, 542, 16], [1002, 529, 1035, 563, 16]], '00485.ppm': [[203, 377, 278, 454, 16]], '00486.ppm': [[410, 519, 465, 574, 7]], '00494.ppm': [[1113, 300, 1211, 395, 1]], '00496.ppm': [[511, 494, 552, 536, 8], [509, 535, 550, 576, 10]], '00500.ppm': [[952, 499, 1000, 546, 5]], '00501.ppm': [[943, 557, 962, 577, 4], [610, 558, 628, 577, 4]], '00512.ppm': [[230, 486, 270, 522, 5], [1139, 490, 1179, 530, 5]], '00513.ppm': [[142, 501, 197, 556, 7]], '00514.ppm': [[381, 511, 418, 548, 10], [1168, 491, 1206, 530, 10]], '00515.ppm': [[257, 361, 333, 435, 3]], '00517.ppm': [[271, 422, 345, 496, 10]], '00518.ppm': [[451, 526, 499, 574, 7]], '00519.ppm': [[454, 531, 507, 584, 7]], '00520.ppm': [[380, 507, 436, 565, 10]], '00521.ppm': [[377, 574, 405, 604, 7], [946, 565, 976, 595, 7]], '00523.ppm': [[1285, 512, 1330, 555, 10], [455, 515, 502, 562, 10]], '00524.ppm': [[187, 530, 241, 584, 7], [1219, 528, 1271, 580, 7]], '00527.ppm': [[874, 426, 904, 456, 10], [359, 420, 389, 450, 10]], '00528.ppm': [[985, 339, 1026, 380, 7], [166, 415, 205, 455, 7]], '00530.ppm': [[425, 401, 460, 435, 10], [1010, 401, 1043, 434, 10]], '00531.ppm': [[484, 443, 504, 463, 10], [909, 431, 931, 453, 10]], '00544.ppm': [[744, 438, 762, 458, 1]], '00545.ppm': [[213, 435, 247, 474, 15]], '00551.ppm': [[937, 465, 966, 493, 16]], '00552.ppm': [[537, 512, 554, 529, 8], [538, 528, 554, 544, 10], [814, 508, 832, 526, 8], [815, 525, 831, 541, 10]], '00560.ppm': [[1039, 173, 1099, 233, 3]], '00566.ppm': [[655, 395, 689, 429, 9], [124, 419, 156, 451, 9]], '00570.ppm': [[881, 416, 914, 449, 9]], '00599.ppm': [[700, 454, 722, 476, 9]], '00601.ppm': [[82, 450, 145, 508, 7]], '00602.ppm': [[1268, 555, 1299, 586, 8], [443, 543, 474, 574, 8]], '00603.ppm': [[361, 445, 417, 500, 10]], '00605.ppm': [[167, 511, 206, 550, 4], [846, 501, 881, 535, 4]], '00609.ppm': [[809, 507, 841, 539, 4], [310, 512, 343, 546, 4]], '00610.ppm': [[917, 553, 938, 574, 4]], '00611.ppm': [[839, 488, 872, 521, 4], [840, 520, 873, 552, 10]], '00613.ppm': [[1132, 561, 1169, 598, 5], [478, 546, 513, 581, 5]], '00615.ppm': [[890, 572, 918, 600, 8], [386, 571, 413, 600, 8]], '00620.ppm': [[863, 425, 892, 454, 9]], '00621.ppm': [[782, 443, 808, 469, 4]], '00623.ppm': [[974, 374, 1034, 434, 4]], '00624.ppm': [[821, 464, 845, 488, 2]], '00625.ppm': [[1037, 377, 1102, 443, 2]], '00626.ppm': [[857, 404, 895, 442, 2], [857, 444, 893, 480, 9]], '00630.ppm': [[1219, 315, 1285, 385, 4]], '00631.ppm': [[799, 478, 834, 512, 4]], '00632.ppm': [[101, 379, 147, 424, 1]], '00634.ppm': [[525, 371, 570, 416, 2]], '00635.ppm': [[826, 423, 864, 461, 9]], '00638.ppm': [[914, 374, 953, 414, 1]], '00640.ppm': [[1105, 353, 1176, 424, 4]], '00645.ppm': [[1034, 311, 1090, 367, 1]], '00651.ppm': [[800, 404, 851, 456, 1]], '00656.ppm': [[574, 465, 599, 490, 15]], '00657.ppm': [[991, 400, 1026, 435, 16]], '00659.ppm': [[993, 430, 1033, 470, 2]], '00660.ppm': [[943, 422, 979, 458, 9]], '00661.ppm': [[1138, 401, 1169, 430, 2]], '00664.ppm': [[849, 437, 880, 468, 4]], '00665.ppm': [[557, 471, 579, 493, 4]], '00667.ppm': [[737, 444, 764, 471, 4]], '00668.ppm': [[1083, 254, 1172, 340, 2]], '00669.ppm': [[899, 393, 949, 444, 4]], '00670.ppm': [[997, 306, 1064, 373, 4]], '00671.ppm': [[846, 393, 883, 430, 2]], '00674.ppm': [[717, 371, 751, 405, 1]], '00680.ppm': [[900, 394, 953, 448, 1]], '00681.ppm': [[820, 434, 846, 460, 1]], '00683.ppm': [[387, 455, 409, 477, 10], [889, 450, 913, 475, 10]], '00686.ppm': [[377, 437, 412, 474, 5]], '00690.ppm': [[775, 506, 799, 529, 4]], '00691.ppm': [[885, 492, 907, 514, 4], [469, 490, 490, 512, 4]], '00692.ppm': [[1050, 357, 1091, 397, 15]], '00693.ppm': [[984, 383, 1024, 423, 3]], '00696.ppm': [[717, 446, 737, 466, 9]], '00698.ppm': [[737, 413, 765, 442, 1]], '00699.ppm': [[727, 413, 756, 443, 1]], '00701.ppm': [[1042, 396, 1088, 442, 2]], '00703.ppm': [[1001, 360, 1042, 401, 1]], '00704.ppm': [[766, 411, 793, 438, 2]], '00705.ppm': [[955, 343, 991, 378, 1]], '00706.ppm': [[866, 371, 899, 402, 1]], '00707.ppm': [[907, 383, 943, 419, 4]], '00710.ppm': [[1084, 201, 1164, 283, 2]], '00712.ppm': [[932, 361, 984, 413, 9]], '00714.ppm': [[784, 313, 828, 357, 1]], '00716.ppm': [[820, 335, 869, 386, 4]], '00717.ppm': [[835, 435, 859, 459, 4]], '00719.ppm': [[933, 390, 969, 427, 2]], '00720.ppm': [[737, 429, 756, 448, 2]], '00723.ppm': [[696, 424, 717, 446, 4]], '00729.ppm': [[536, 489, 570, 523, 3]], '00730.ppm': [[466, 443, 512, 490, 3], [1053, 517, 1083, 547, 3]], '00733.ppm': [[508, 426, 543, 462, 4], [937, 523, 965, 551, 4]], '00734.ppm': [[1090, 450, 1166, 528, 3]], '00740.ppm': [[1163, 510, 1213, 560, 5], [489, 513, 534, 558, 5]], '00741.ppm': [[438, 558, 465, 585, 10], [972, 555, 1000, 583, 10]], '00742.ppm': [[334, 562, 368, 596, 7], [960, 554, 995, 587, 7]], '00746.ppm': [[1135, 492, 1181, 537, 8], [235, 469, 281, 515, 8], [236, 515, 280, 561, 10], [1138, 537, 1182, 579, 10]], '00749.ppm': [[301, 551, 346, 596, 5], [1153, 546, 1200, 593, 5]], '00752.ppm': [[934, 448, 979, 494, 1]], '00755.ppm': [[852, 518, 883, 549, 1]], '00758.ppm': [[982, 521, 1014, 553, 8], [374, 515, 406, 547, 8], [376, 548, 407, 579, 10], [982, 553, 1015, 586, 10]], '00760.ppm': [[591, 538, 616, 563, 8], [591, 563, 616, 587, 10], [1023, 542, 1049, 569, 8], [1024, 568, 1048, 592, 10]], '00766.ppm': [[256, 495, 289, 533, 15]], '00773.ppm': [[879, 514, 903, 538, 1]], '00774.ppm': [[929, 516, 961, 548, 1]], '00775.ppm': [[884, 483, 930, 529, 1]], '00776.ppm': [[861, 505, 893, 537, 1]], '00777.ppm': [[834, 526, 858, 550, 1]], '00780.ppm': [[1165, 572, 1227, 636, 3], [380, 557, 444, 621, 3]], '00791.ppm': [[985, 412, 1062, 489, 4]], '00798.ppm': [[786, 545, 806, 565, 2]], '00802.ppm': [[610, 267, 683, 336, 1]], '00803.ppm': [[771, 232, 835, 295, 1], [772, 322, 837, 387, 9]], '00806.ppm': [[807, 407, 832, 432, 1]], '00821.ppm': [[859, 444, 882, 466, 5], [333, 442, 356, 466, 5]], '00824.ppm': [[232, 416, 267, 451, 15]], '00825.ppm': [[1083, 378, 1108, 404, 1]], '00829.ppm': [[553, 399, 576, 422, 1]], '00831.ppm': [[975, 371, 1014, 410, 1]], '00833.ppm': [[776, 332, 822, 378, 1]], '00834.ppm': [[1130, 264, 1187, 325, 1]], '00838.ppm': [[1068, 382, 1097, 411, 2], [443, 419, 470, 446, 2]], '00839.ppm': [[1234, 297, 1279, 342, 2], [1234, 343, 1280, 388, 9], [303, 365, 346, 409, 2], [305, 409, 348, 454, 9]], '00846.ppm': [[374, 383, 409, 418, 2], [1091, 348, 1128, 385, 2]], '00848.ppm': [[982, 241, 1054, 313, 1]], '00850.ppm': [[973, 373, 1005, 405, 1]], '00851.ppm': [[1092, 312, 1147, 367, 1]], '00854.ppm': [[1182, 254, 1255, 327, 2]], '00860.ppm': [[1077, 144, 1168, 231, 2]], '00862.ppm': [[285, 425, 362, 501, 7]], '00866.ppm': [[1004, 398, 1032, 426, 10]], '00870.ppm': [[569, 456, 590, 477, 5], [1030, 441, 1050, 461, 5]], '00871.ppm': [[375, 407, 411, 443, 5], [1273, 381, 1313, 421, 5]], '00872.ppm': [[937, 406, 970, 439, 10], [318, 416, 351, 449, 10]], '00876.ppm': [[466, 469, 491, 494, 3], [776, 477, 796, 497, 3]], '00881.ppm': [[1131, 561, 1168, 598, 5], [478, 546, 513, 581, 5]], '00882.ppm': [[244, 546, 317, 617, 5]], '00884.ppm': [[855, 477, 890, 512, 4], [854, 512, 889, 545, 10]], '00886.ppm': [[815, 517, 838, 540, 4], [815, 540, 840, 565, 10]], '00889.ppm': [[689, 530, 713, 554, 4]], '00891.ppm': [[747, 551, 767, 571, 4], [473, 556, 493, 576, 4]], '00894.ppm': [[389, 527, 417, 555, 4], [1093, 529, 1132, 568, 4]], '00895.ppm': [[193, 482, 238, 527, 4], [966, 418, 1014, 466, 4]], '00896.ppm': [[808, 412, 846, 450, 15]], '00898.ppm': [[323, 504, 355, 536, 4], [817, 510, 849, 542, 4]]}\n"
     ]
    }
   ],
   "source": [
    "# Funktionsaufruf\n",
    "\"\"\"\n",
    "Erwartete Ausgabe:\n",
    "    {'00003.ppm': [[742, 443, 765, 466, 4], [742, 466, 764, 489, 9]],\n",
    "     '00004.ppm': [[906, 407, 955, 459, 2]],\n",
    "     '00005.ppm': [[1172, 164, 1284, 278, 9]],\n",
    "     '00006.ppm': [[926, 350, 989, 414, 2]],\n",
    "     ...}\n",
    "\"\"\"\n",
    "calculate_prohibitory()\n",
    "print(PROHIBITORY_DICT)"
   ]
  },
  {
   "cell_type": "code",
   "execution_count": 11,
   "metadata": {},
   "outputs": [
    {
     "name": "stdout",
     "output_type": "stream",
     "text": [
      "382\n"
     ]
    }
   ],
   "source": [
    "# Ermittele die Dateienamen (ausgehend von DATA_PATH) alle Treffer in PROHIBITORY_DICT\n",
    "PROHIBITORY_FILEPATHS = [os.path.join(DATA_PATH, key) for  key,value in PROHIBITORY_DICT.items() ]\n",
    "print(len(PROHIBITORY_FILEPATHS))"
   ]
  },
  {
   "cell_type": "code",
   "execution_count": 12,
   "metadata": {},
   "outputs": [],
   "source": [
    "def render_prohibitory_rois():\n",
    "    \"\"\"\n",
    "    Malt die ROIs (Rechtecke) auf die entsprechenden Bilder und speichert \n",
    "    die in PROHIBITORY_IMG_LIST. \n",
    "    Hinweis:\n",
    "    Die ROIs und Bildernamen können aus PROHIBITORY_DICT ermittelt werden\n",
    "    \"\"\"\n",
    "    # Setze die globale variable zurück\n",
    "    PROHIBITORY_IMG_LIST.clear()\n",
    "    \n",
    "    for key in PROHIBITORY_DICT.keys():\n",
    "        file_path = os.path.join(DATA_PATH, key)\n",
    "        img = plt.imread(file_path)\n",
    "        ### TO DO ###\n",
    "        for idx in range(len(PROHIBITORY_DICT[key])):\n",
    "            # Berechne Koordinaten des Rechtecks\n",
    "            point1 = tuple(PROHIBITORY_DICT[key][idx][0:2])\n",
    "            point2 = tuple(PROHIBITORY_DICT[key][idx][2:4])\n",
    "            \n",
    "            # Zeichne das Rechteck\n",
    "            img =  cv2.rectangle(img=img,pt1=point1,pt2=point2,color=(255,0,0) ,thickness=4)\n",
    "            org = (point1[0]-10,point1[1]-10)            \n",
    "            # Speichere Verkehrszeichennamen als text\n",
    "            text = str(PROHIBITORY_DICT[key][idx][-1])\n",
    "            img = cv2.putText(img,text,org,cv2.FONT_HERSHEY_SIMPLEX,1,(255,255,0),thickness=2)\n",
    "            \n",
    "        PROHIBITORY_IMG_LIST.append(img)"
   ]
  },
  {
   "cell_type": "code",
   "execution_count": 13,
   "metadata": {},
   "outputs": [
    {
     "name": "stdout",
     "output_type": "stream",
     "text": [
      "382\n"
     ]
    }
   ],
   "source": [
    "# Prohibitory Image list abrufen\n",
    "render_prohibitory_rois()\n",
    "print(len(PROHIBITORY_IMG_LIST))"
   ]
  },
  {
   "cell_type": "code",
   "execution_count": 14,
   "metadata": {},
   "outputs": [],
   "source": [
    "def show_img(idx):\n",
    "    plt.figure(figsize=(16,8))\n",
    "    plt.imshow(PROHIBITORY_IMG_LIST[idx])\n",
    "    plt.show()"
   ]
  },
  {
   "cell_type": "code",
   "execution_count": 15,
   "metadata": {},
   "outputs": [
    {
     "data": {
      "application/vnd.jupyter.widget-view+json": {
       "model_id": "d48ac6dbfb3b40a9bb3e716512985a57",
       "version_major": 2,
       "version_minor": 0
      },
      "text/plain": [
       "interactive(children=(IntSlider(value=0, description='idx', max=381), Output()), _dom_classes=('widget-interac…"
      ]
     },
     "metadata": {},
     "output_type": "display_data"
    }
   ],
   "source": [
    "interact(show_img, idx=widgets.IntSlider(min=0,max=len(PROHIBITORY_IMG_LIST)-1, step=1, value=0));"
   ]
  },
  {
   "cell_type": "markdown",
   "metadata": {},
   "source": [
    "## Aufgabe 2 – Formbasierter Ansatz"
   ]
  },
  {
   "cell_type": "code",
   "execution_count": 16,
   "metadata": {},
   "outputs": [],
   "source": [
    "def calculate_hough_cirles(filepaths, d_p, min_dist, param1, param2, min_radius, max_radius):\n",
    "    \"\"\"\n",
    "     Berechnet Hough Circles unter Berücksichtigung der Form der Verkehrszeichen\n",
    "    \"\"\"\n",
    "    \n",
    "    # Liste fuer die Speicherung des Ergebnis\n",
    "    result = []\n",
    "    predicted_dict = {}\n",
    "    \n",
    "    for filepath_ in filepaths:\n",
    "        # Lade das Bild in color_img\n",
    "        color_img = cv2.imread(filepath_, cv2.IMREAD_COLOR)\n",
    "        ### TO DO ###\n",
    "        \n",
    "        # Konvertiere das BGR-Bild in Gray.\n",
    "        # https://opencv-python-tutroals.readthedocs.io/en/latest/py_tutorials/py_imgproc/py_colorspaces/py_colorspaces.html?highlight=cvtcolor\n",
    "        img_gray = cv2.cvtColor(color_img,cv2.COLOR_BGR2GRAY)\n",
    "\n",
    "        # Reduziere das Rauschen \n",
    "        # https://opencv-python-tutroals.readthedocs.io/en/latest/py_tutorials/py_imgproc/py_filtering/py_filtering.html?highlight=medianblur\n",
    "        img_blurred =  cv2.medianBlur(img_gray,3)\n",
    "        \n",
    "        # Ermittele die Kreisen auf dem Bild \n",
    "        # https://opencv-python-tutroals.readthedocs.io/en/latest/py_tutorials/py_imgproc/py_houghcircles/py_houghcircles.html#hough-circles\n",
    "        circles = cv2.HoughCircles(img_blurred,cv2.HOUGH_GRADIENT,d_p,min_dist,\n",
    "                            param1=param1,param2=param2,minRadius=min_radius,maxRadius=max_radius)\n",
    "\n",
    "        # Kreise auf das Bild malen\n",
    "        if circles is not None: \n",
    "            # Kreise-Paramater in interger umwandeln\n",
    "            circles = np.uint16(np.around(circles)) \n",
    "            \n",
    "            # Kreise auf das Bild malen\n",
    "            for point in circles[0, :]: \n",
    "                a, b, r = point\n",
    "                cv2.circle(color_img,(a,b),r,(0,255,0),2)\n",
    "                # Ermittle Koordinaten der Rechtecke, die für die Evaluation benutzt werden\n",
    "                point1 = (a-r,b-r)\n",
    "                point2 = (a+r,b+r)\n",
    "                # OPTIONAL: Rechtecke auf das Bild malen\n",
    "                cv2.rectangle(color_img,point1,point2,(255,255,0),2)\n",
    "                if os.path.split(filepath_)[-1] in predicted_dict:\n",
    "                    if a==0 and b==0 and r==0:\n",
    "                        continue\n",
    "                    predicted_dict[os.path.split(filepath_)[-1]].append([point1[0], point1[1], point2[0], point2[1]])\n",
    "                else: \n",
    "                    predicted_dict[os.path.split(filepath_)[-1]] = []\n",
    "                    if a==0 and b==0 and r==0:\n",
    "                        continue\n",
    "                    predicted_dict[os.path.split(filepath_)[-1]].append([point1[0], point1[1], point2[0], point2[1]])\n",
    "        else:\n",
    "            predicted_dict[os.path.split(filepath_)[-1]] = []                \n",
    "        result.append(color_img)\n",
    "        \n",
    "    return result, predicted_dict"
   ]
  },
  {
   "cell_type": "code",
   "execution_count": 17,
   "metadata": {},
   "outputs": [],
   "source": [
    "pred_imgs_form, predicted_rect_rois = calculate_hough_cirles(PROHIBITORY_FILEPATHS, \n",
    "                                                  d_p=1,\n",
    "                                                  min_dist=20, \n",
    "                                                  param1= 100, \n",
    "                                                  param2= 70, \n",
    "                                                  min_radius=10, \n",
    "                                                  max_radius=70) "
   ]
  },
  {
   "cell_type": "code",
   "execution_count": 18,
   "metadata": {},
   "outputs": [],
   "source": [
    "def show_img_form(idx):\n",
    "    plt.figure(figsize=(16,8))\n",
    "    plt.imshow(cv2.cvtColor(pred_imgs_form[idx], cv2.COLOR_BGR2RGB))\n",
    "    plt.show()"
   ]
  },
  {
   "cell_type": "code",
   "execution_count": 19,
   "metadata": {},
   "outputs": [
    {
     "data": {
      "application/vnd.jupyter.widget-view+json": {
       "model_id": "346bf8a01ba34537a743c47331ad8ac9",
       "version_major": 2,
       "version_minor": 0
      },
      "text/plain": [
       "interactive(children=(IntSlider(value=0, description='idx', max=381), Output()), _dom_classes=('widget-interac…"
      ]
     },
     "metadata": {},
     "output_type": "display_data"
    }
   ],
   "source": [
    "interact(show_img_form, idx=widgets.IntSlider(min=0, max=len(pred_imgs_form)-1, step=1, value=0));"
   ]
  },
  {
   "cell_type": "markdown",
   "metadata": {},
   "source": [
    "## Aufgabe 3 – Optimierung und Evaluation des formbasierten Ansatzes"
   ]
  },
  {
   "cell_type": "code",
   "execution_count": 20,
   "metadata": {},
   "outputs": [],
   "source": [
    "def jaccard_similarity(pred, gr_truth):\n",
    "    '''\n",
    "    Berechnet den Jaccard-Koeffizienten für zwei Rechtecke: den vorhergesagen (pred) und den ground_truth (gr_truth)\n",
    "    \n",
    "    '''\n",
    "    # Ermittle die (x, y)-Koordinaten der Schnittmenge beider Rechtecke\n",
    "    x_i1 = max(pred[0], gr_truth[0])\n",
    "    y_i1 = max(pred[1], gr_truth[1])\n",
    "    x_i2 = min(pred[2], gr_truth[2])\n",
    "    y_i2 = min(pred[3], gr_truth[3])\n",
    "\n",
    "    inter_area = max(0, x_i2 - x_i1 + 1) * max(0, y_i2 - y_i1 + 1)\n",
    "\n",
    "    pred_area = (pred[2] - pred[0] + 1) * (pred[3] - pred[1] + 1)\n",
    "    gr_truth_area = (gr_truth[2] - gr_truth[0] + 1) * (gr_truth[3] - gr_truth[1] + 1)\n",
    "    \n",
    "    iou = inter_area / float(pred_area + gr_truth_area - inter_area)\n",
    "    \n",
    "    # Gebe die \"Intersection Over Union\"-Wert zurück\n",
    "    return iou"
   ]
  },
  {
   "cell_type": "code",
   "execution_count": 21,
   "metadata": {},
   "outputs": [],
   "source": [
    "def evaluate_detection(ground_truth_dict, predicted_dict, similarity_threshold=0.6):    \n",
    "    '''\n",
    "    Evaluiert implementierte Ansätze anhand des Jaccard-Ähnlichkeitsmaßes\n",
    "    Referenz für die Berechnung: Houben et. al. Kapitel IV Evaluation Procedure\n",
    "    tp: true positive - Das tatsächlich vorhandene Schild wurde vom Detektionsverfahren korrekt erkannt\n",
    "    fp: false positive- Ein Schild wird detektiert, obwohl keins vorhanden ist\n",
    "    fn: false negative- Ein Schild ist vorhanden, wird aber nicht detektiert\n",
    "    tn: true negative - Es ist kein Schild vorhanden und es wird keins detektiert.\n",
    "    '''\n",
    "    # True Positives\n",
    "    tp = 0\n",
    "    # False Positives\n",
    "    fp = 0\n",
    "    # False Negatives\n",
    "    fn = 0\n",
    "    \n",
    "    for key in ground_truth_dict.keys():\n",
    "        # Liste mit allen ROIs eines Dateinamens \n",
    "        rois_gt_lists = ground_truth_dict[key]\n",
    "        \n",
    "        # Berechne Jaccard-Ähnlichkeitsmaß von detektierten Rechtecken, die aus den Kreiskoordinaten ermittelt wurden\n",
    "        rois_pred_lists = predicted_dict[key]\n",
    "        \n",
    "        if len(rois_pred_lists) > 0:\n",
    "            for rois_gt_list in rois_gt_lists:\n",
    "                iou = [jaccard_similarity(rois_pred, rois_gt_list) for rois_pred in rois_pred_lists]\n",
    "                \n",
    "                # Liste mit den Werten, die kleiner als similarity_threshold sind\n",
    "                iou_lt_threshold = [value for value in iou if value < similarity_threshold]\n",
    "                fp = fp + len(iou_lt_threshold)\n",
    "                \n",
    "                # Liste mit den Werten, die größer / gleich similarity_threshold sind\n",
    "                iou_gt_threshold = [value for value in iou if value >= similarity_threshold]\n",
    "                \n",
    "                if len(iou_gt_threshold) > 0 : \n",
    "                    tp = tp + 1\n",
    "                else:\n",
    "                    fn = fn + 1\n",
    "        else:\n",
    "            fn = fn + len(rois_gt_lists)\n",
    "\n",
    "    return tp, fp, fn            "
   ]
  },
  {
   "cell_type": "code",
   "execution_count": 22,
   "metadata": {},
   "outputs": [],
   "source": [
    "def calculate_precision_recall(tp, fp, fn):\n",
    "    '''\n",
    "    Berechnet Precision- und Recall-Werte\n",
    "    '''\n",
    "    \n",
    "    precision = np.NaN\n",
    "    if tp + fp != 0:\n",
    "        precision = tp / (tp + fp)   \n",
    "    \n",
    "    recall = np.NaN\n",
    "    if tp + fn != 0:\n",
    "        recall = tp / (tp + fn)\n",
    "        \n",
    "    return precision, recall"
   ]
  },
  {
   "cell_type": "code",
   "execution_count": 23,
   "metadata": {},
   "outputs": [],
   "source": [
    "# similarity_threshold entspricht dem Schwellenwert im Paper von Houben et. al.\n",
    "tp_form, fp_form, fn_form = evaluate_detection(PROHIBITORY_DICT, predicted_rect_rois, similarity_threshold=0.6)"
   ]
  },
  {
   "cell_type": "code",
   "execution_count": 24,
   "metadata": {},
   "outputs": [],
   "source": [
    "# testing in small dataset\n",
    "\n",
    "import random\n",
    "import itertools\n",
    "\n",
    "\n",
    "#estimating parameters\n",
    "\n",
    "def estimating(param1,param2):\n",
    "    result=[]\n",
    "    \n",
    "    names1 = PROHIBITORY_DICT.keys()\n",
    "\n",
    "    random.seed(56)\n",
    "    sample1=random.sample(names1,30)\n",
    "    pathes1=[os.path.join(DATA_PATH,f) for f in sample1]\n",
    "\n",
    "    #print(sample1)\n",
    "    #print(pathes1)\n",
    "    \n",
    "    combi_list=list(itertools.product(param1, param2))\n",
    "    for p1,p2 in combi_list:\n",
    "        pred_imgs_form, predicted_rect_rois = calculate_hough_cirles(pathes1, \n",
    "                                                      d_p=1,\n",
    "                                                      min_dist=20, \n",
    "                                                      param1= p1, \n",
    "                                                      param2= p2, \n",
    "                                                      min_radius=10, \n",
    "                                                      max_radius=70) \n",
    "        small_gt_dict=dict(zip(sample1,  [ PROHIBITORY_DICT[s] for s in sample1]))\n",
    "        small_pred_dict=dict(zip(sample1,  [ predicted_rect_rois[s] for s in sample1]))\n",
    "        tp_form, fp_form, fn_form = evaluate_detection(small_gt_dict, small_pred_dict, similarity_threshold=0.6)\n",
    "        precision,recall=calculate_precision_recall(tp_form, fp_form, fn_form)\n",
    "        result.append([p1,p2,precision,recall])\n",
    "        \n",
    "    return result"
   ]
  },
  {
   "cell_type": "code",
   "execution_count": 25,
   "metadata": {},
   "outputs": [
    {
     "name": "stderr",
     "output_type": "stream",
     "text": [
      "D:\\Anaconda3\\envs\\py37\\lib\\site-packages\\ipykernel_launcher.py:38: RuntimeWarning: overflow encountered in ushort_scalars\n",
      "D:\\Anaconda3\\envs\\py37\\lib\\site-packages\\ipykernel_launcher.py:12: RuntimeWarning: overflow encountered in ushort_scalars\n",
      "  if sys.path[0] == '':\n",
      "D:\\Anaconda3\\envs\\py37\\lib\\site-packages\\ipykernel_launcher.py:14: RuntimeWarning: overflow encountered in ushort_scalars\n",
      "  \n"
     ]
    }
   ],
   "source": [
    "# Precision-Recall-Plot\n",
    "### TO DO ###\n",
    "              \n",
    "rst=estimating(range(10,255,30),range(10,100,20))"
   ]
  },
  {
   "cell_type": "code",
   "execution_count": 26,
   "metadata": {},
   "outputs": [
    {
     "data": {
      "text/plain": [
       "matrix([[40.        , 70.        ,  0.31578947,  0.30769231]])"
      ]
     },
     "execution_count": 26,
     "metadata": {},
     "output_type": "execute_result"
    }
   ],
   "source": [
    "mat=np.matrix(rst)\n",
    "\n",
    "fi_score=np.array(mat[:,2])*np.array(mat[:,3])\n",
    "idx=np.where(fi_score==max(fi_score))[0][0]\n",
    "\n",
    "mat[idx]\n",
    "\n"
   ]
  },
  {
   "cell_type": "code",
   "execution_count": 27,
   "metadata": {},
   "outputs": [
    {
     "name": "stderr",
     "output_type": "stream",
     "text": [
      "D:\\Anaconda3\\envs\\py37\\lib\\site-packages\\ipykernel_launcher.py:38: RuntimeWarning: overflow encountered in ushort_scalars\n",
      "D:\\Anaconda3\\envs\\py37\\lib\\site-packages\\ipykernel_launcher.py:12: RuntimeWarning: overflow encountered in ushort_scalars\n",
      "  if sys.path[0] == '':\n",
      "D:\\Anaconda3\\envs\\py37\\lib\\site-packages\\ipykernel_launcher.py:14: RuntimeWarning: overflow encountered in ushort_scalars\n",
      "  \n"
     ]
    },
    {
     "data": {
      "image/png": "[encoded data removed]",
      "text/plain": [
       "<Figure size 576x576 with 1 Axes>"
      ]
     },
     "metadata": {
      "needs_background": "light"
     },
     "output_type": "display_data"
    }
   ],
   "source": [
    "# Precision-Recall-Plot\n",
    "### TO DO ###\n",
    "####################################################\n",
    "######  diese Zelle sehr zeitaufwändig  !!!!!!\n",
    "####################################################\n",
    "###testing parameter 1-> upper threshodl  for canny()\n",
    "p_canny=np.arange(1,256,10)\n",
    "precision_list=[]\n",
    "recall_list=[]\n",
    "pred_dict_list=[]\n",
    "\n",
    "for p in p_canny:\n",
    "    pred_imgs_form, predicted_rect_rois = calculate_hough_cirles(PROHIBITORY_FILEPATHS, \n",
    "                                                      d_p=1,\n",
    "                                                      min_dist=20, \n",
    "                                                      param1= p, \n",
    "                                                      param2= 60, # when 70 is area snall\n",
    "                                                      min_radius=10, \n",
    "                                                      max_radius=70) \n",
    "    pred_dict_list.append(predicted_rect_rois)\n",
    "    \n",
    "for pred_dict in pred_dict_list:\n",
    "    tp_form, fp_form, fn_form = evaluate_detection(PROHIBITORY_DICT, pred_dict, similarity_threshold=0.6)\n",
    "    precision, recall=calculate_precision_recall(tp_form, fp_form, fn_form)\n",
    "    precision_list.append(precision)\n",
    "    recall_list.append(recall)\n",
    "    \n",
    "plt.figure(figsize=(8,8))\n",
    "plt.xlabel('Precision')\n",
    "plt.ylabel('Recall')\n",
    "plt.xlim(0, 1)\n",
    "plt.ylim(0,1)\n",
    "plt.xticks(np.linspace(0, 1,11))\n",
    "plt.yticks(np.linspace(0, 1,11))\n",
    "plt.title('Precision-Recall-Plot')\n",
    "plt.plot(precision_list,recall_list)\n",
    "plt.legend(['upper threshold value of canny() varies from 1 to 251 ,step by 10\\n voting threshold of hough-circle is fixed at 60'])\n",
    "plt.show()\n"
   ]
  },
  {
   "cell_type": "code",
   "execution_count": 28,
   "metadata": {},
   "outputs": [
    {
     "name": "stderr",
     "output_type": "stream",
     "text": [
      "D:\\Anaconda3\\envs\\py37\\lib\\site-packages\\ipykernel_launcher.py:38: RuntimeWarning: overflow encountered in ushort_scalars\n",
      "D:\\Anaconda3\\envs\\py37\\lib\\site-packages\\ipykernel_launcher.py:12: RuntimeWarning: overflow encountered in ushort_scalars\n",
      "  if sys.path[0] == '':\n",
      "D:\\Anaconda3\\envs\\py37\\lib\\site-packages\\ipykernel_launcher.py:14: RuntimeWarning: overflow encountered in ushort_scalars\n",
      "  \n"
     ]
    },
    {
     "data": {
      "image/png": "[encoded data removed]",
      "text/plain": [
       "<Figure size 576x576 with 1 Axes>"
      ]
     },
     "metadata": {
      "needs_background": "light"
     },
     "output_type": "display_data"
    }
   ],
   "source": [
    "###testing parameter 2-> voting threshold for Hough-circle\n",
    "\n",
    "####################################################\n",
    "######  diese Zelle sehr zeitaufwändig  !!!!!!\n",
    "####################################################\n",
    "p_voting=np.arange(5,100,5)\n",
    "precision_list2=[]\n",
    "recall_list2=[]\n",
    "pred_dict_list2=[]\n",
    "\n",
    "for p in p_voting:\n",
    "    pred_imgs_form, predicted_rect_rois = calculate_hough_cirles(PROHIBITORY_FILEPATHS, \n",
    "                                                      d_p=1,\n",
    "                                                      min_dist=20, \n",
    "                                                      param1= 40, \n",
    "                                                      param2= p, \n",
    "                                                      min_radius=10, \n",
    "                                                      max_radius=70) \n",
    "    pred_dict_list2.append(predicted_rect_rois)\n",
    "    \n",
    "for pred_dict in pred_dict_list2:\n",
    "    tp_form, fp_form, fn_form = evaluate_detection(PROHIBITORY_DICT, pred_dict, similarity_threshold=0.6)\n",
    "    precision, recall=calculate_precision_recall(tp_form, fp_form, fn_form)\n",
    "    precision_list2.append(precision)\n",
    "    recall_list2.append(recall)\n",
    "\n",
    "    \n",
    "plt.figure(figsize=(8,8))\n",
    "plt.xlabel('Precision')\n",
    "plt.ylabel('Recall')\n",
    "plt.xlim(0, 1)\n",
    "plt.ylim(0,1)\n",
    "plt.xticks(np.linspace(0, 1,11))\n",
    "plt.yticks(np.linspace(0, 1,11))\n",
    "plt.title('Precision-Recall-Plot')\n",
    "plt.plot(precision_list2,recall_list2)\n",
    "plt.legend(['voting threshold of hough-circle varies from 5 to 100 ,step by 5\\n upper threshold value of canny() is fixed at 40'])\n",
    "plt.show()"
   ]
  },
  {
   "cell_type": "markdown",
   "metadata": {},
   "source": [
    "## Aufgabe 4 – Form- und farbbasierter Ansatz"
   ]
  },
  {
   "cell_type": "code",
   "execution_count": 29,
   "metadata": {},
   "outputs": [],
   "source": [
    "# testing in small dataset\n",
    "\n",
    "### sampling \n",
    "\n",
    "def sampling():\n",
    "    names1 = PROHIBITORY_DICT.keys()\n",
    "    random.seed(56)\n",
    "    sample1=random.sample(names1,30)\n",
    "    pathes1=[os.path.join(DATA_PATH,f) for f in sample1]\n",
    "    origin_imgs=[]\n",
    "    for path in  pathes1:\n",
    "        img=plt.imread(path)\n",
    "        origin_imgs.append(img)\n",
    "\n",
    "    return origin_imgs\n",
    "\n",
    "def comparing(idx,p_voting):\n",
    "    import copy\n",
    "    origin_imgs=sampling()\n",
    "    img_RGB=copy.copy(origin_imgs[idx])\n",
    "    # convert RGB 2 HSV\n",
    "    hsv=cv2.cvtColor(img_RGB,cv2.COLOR_RGB2HSV)\n",
    "    # define range of  red  color in HSV\n",
    "    lower_red=np.array([0,50,50])\n",
    "    upper_red=np.array([10,255,255])\n",
    "    #Threshold the HSV image to get only red colors\n",
    "    mask=cv2.inRange(hsv,lower_red,upper_red)\n",
    "    \n",
    "    # real  image with interreted color \n",
    "    res=cv2.bitwise_and(origin_imgs[idx],origin_imgs[idx],mask=mask)\n",
    "    \n",
    "    # hough-circle\n",
    "    img_blurred =  cv2.medianBlur(mask,3)\n",
    "    circles = cv2.HoughCircles(img_blurred,cv2.HOUGH_GRADIENT,dp=1,minDist=20,\n",
    "                            param1=100,param2=p_voting,minRadius=10,maxRadius=70)\n",
    "    # Kreise auf das Bild malen\n",
    "    if circles is not None: \n",
    "        # Kreise-Paramater in interger umwandeln\n",
    "        circles = np.uint16(np.around(circles))\n",
    "        for point in circles[0, :]:\n",
    "            a, b, r = point\n",
    "            # Ermittle Koordinaten der Rechtecke, die für die Evaluation benutzt werden\n",
    "            point1 = (a-r,b-r)\n",
    "            point2 = (a+r,b+r)\n",
    "            cv2.rectangle(img_RGB,point1,point2,(255,255,0),2)\n",
    "            \n",
    "            \n",
    "            \n",
    "\n",
    "    fig,axs=plt.subplots(3,1,figsize=(16,30))\n",
    "    axs[0].imshow(origin_imgs[idx])\n",
    "    axs[1].imshow(mask,cmap='gray')\n",
    "    #axs[2].imshow(res)\n",
    "    axs[2].imshow(img_RGB)\n",
    "    plt.show()\n",
    "    #print(img_ori.shape)\n",
    "    #print(mask.shape)\n",
    "    #print(mask)\n",
    "    \n",
    "    \n",
    "\n"
   ]
  },
  {
   "cell_type": "code",
   "execution_count": 30,
   "metadata": {},
   "outputs": [
    {
     "data": {
      "application/vnd.jupyter.widget-view+json": {
       "model_id": "82f71fb5d35142e98bf9929b9251c530",
       "version_major": 2,
       "version_minor": 0
      },
      "text/plain": [
       "interactive(children=(IntSlider(value=0, description='idx', max=29), IntSlider(value=30, description='p_voting…"
      ]
     },
     "metadata": {},
     "output_type": "display_data"
    }
   ],
   "source": [
    "\n",
    "interact(comparing,\n",
    "         idx=widgets.IntSlider(min=0,max=len(sampling())-1, step=1, value=0),\n",
    "         p_voting=widgets.IntSlider(min=0,max=60, step=1, value=30));"
   ]
  },
  {
   "cell_type": "code",
   "execution_count": 31,
   "metadata": {},
   "outputs": [],
   "source": [
    "# Erweiterung des in der Aufgabe 2 implementierten Ansatzes\n",
    "### TO DO ###\n",
    "\n",
    "def calculate_hough_cirles_with_Color(filepaths,threshold_color, d_p, min_dist, param1, param2, min_radius, max_radius):\n",
    "    \"\"\"\n",
    "     Berechnet Hough Circles unter Berücksichtigung der Form der Verkehrszeichen\n",
    "    \"\"\"\n",
    "    \n",
    "    # Liste fuer die Speicherung des Ergebnis\n",
    "    result = []\n",
    "    predicted_dict = {}\n",
    "    \n",
    "    for filepath_ in filepaths:\n",
    "        # Lade das Bild in color_img\n",
    "        color_img = cv2.imread(filepath_, cv2.IMREAD_COLOR)\n",
    "        ### TO DO ###\n",
    "        \n",
    "        # Konvertiere das BGR-Bild in Gray.\n",
    "        # https://opencv-python-tutroals.readthedocs.io/en/latest/py_tutorials/py_imgproc/py_colorspaces/py_colorspaces.html?highlight=cvtcolor\n",
    "        #img_gray = cv2.cvtColor(color_img,cv2.COLOR_BGR2GRAY)\n",
    "        img_hsv=cv2.cvtColor(color_img,cv2.COLOR_BGR2HSV)\n",
    "        \n",
    "        # define range of  red  color in HSV\n",
    "        lower_red=np.array([0,50,50])\n",
    "        upper_red=np.array([threshold_color,255,255])\n",
    "        \n",
    "        #Threshold the HSV image to get only red colors\n",
    "        mask=cv2.inRange(img_hsv,lower_red,upper_red)\n",
    "        \n",
    "        # Reduziere das Rauschen \n",
    "        # https://opencv-python-tutroals.readthedocs.io/en/latest/py_tutorials/py_imgproc/py_filtering/py_filtering.html?highlight=medianblur\n",
    "        img_blurred =  cv2.medianBlur(mask,3)\n",
    "        \n",
    "        # Ermittele die Kreisen auf dem Bild \n",
    "        # https://opencv-python-tutroals.readthedocs.io/en/latest/py_tutorials/py_imgproc/py_houghcircles/py_houghcircles.html#hough-circles\n",
    "        circles = cv2.HoughCircles(img_blurred,cv2.HOUGH_GRADIENT,d_p,min_dist,\n",
    "                            param1=param1,param2=param2,minRadius=min_radius,maxRadius=max_radius)\n",
    "\n",
    "        # Kreise auf das Bild malen\n",
    "        if circles is not None: \n",
    "            # Kreise-Paramater in interger umwandeln\n",
    "            circles = np.uint16(np.around(circles)) \n",
    "            \n",
    "            # Kreise auf das Bild malen\n",
    "            for point in circles[0, :]: \n",
    "                a, b, r = point\n",
    "                cv2.circle(color_img,(a,b),r,(0,255,0),2)\n",
    "                # Ermittle Koordinaten der Rechtecke, die für die Evaluation benutzt werden\n",
    "                point1 = (a-r,b-r)\n",
    "                point2 = (a+r,b+r)\n",
    "                # OPTIONAL: Rechtecke auf das Bild malen\n",
    "                cv2.rectangle(color_img,point1,point2,(255,255,0),2)\n",
    "                if os.path.split(filepath_)[-1] in predicted_dict:\n",
    "                    if a==0 and b==0 and r==0:\n",
    "                        continue\n",
    "                    predicted_dict[os.path.split(filepath_)[-1]].append([point1[0], point1[1], point2[0], point2[1]])\n",
    "                else: \n",
    "                    predicted_dict[os.path.split(filepath_)[-1]] = []\n",
    "                    if a==0 and b==0 and r==0:\n",
    "                        continue\n",
    "                    predicted_dict[os.path.split(filepath_)[-1]].append([point1[0], point1[1], point2[0], point2[1]])\n",
    "        else:\n",
    "            predicted_dict[os.path.split(filepath_)[-1]] = []                \n",
    "        result.append(color_img)\n",
    "        \n",
    "    return result, predicted_dict"
   ]
  },
  {
   "cell_type": "code",
   "execution_count": 32,
   "metadata": {},
   "outputs": [
    {
     "name": "stderr",
     "output_type": "stream",
     "text": [
      "D:\\Anaconda3\\envs\\py37\\lib\\site-packages\\ipykernel_launcher.py:49: RuntimeWarning: overflow encountered in ushort_scalars\n"
     ]
    }
   ],
   "source": [
    "pred_imgs_form_with_color, predicted_rect_rois_with_color = calculate_hough_cirles_with_Color(PROHIBITORY_FILEPATHS,\n",
    "                                                                        threshold_color=10 ,\n",
    "                                                                        d_p=1,min_dist=20, \n",
    "                                                                        param1= 100, \n",
    "                                                                        param2= 20, \n",
    "                                                                        min_radius=10,\n",
    "                                                                        max_radius=70) "
   ]
  },
  {
   "cell_type": "code",
   "execution_count": 33,
   "metadata": {},
   "outputs": [],
   "source": [
    "def show_img_form_with_color(idx):\n",
    "    plt.figure(figsize=(16,8))\n",
    "    plt.imshow(cv2.cvtColor(pred_imgs_form_with_color[idx], cv2.COLOR_BGR2RGB))\n",
    "    plt.show()"
   ]
  },
  {
   "cell_type": "code",
   "execution_count": 34,
   "metadata": {},
   "outputs": [
    {
     "data": {
      "application/vnd.jupyter.widget-view+json": {
       "model_id": "ecb7c8728f314671ba1785b80c3a5500",
       "version_major": 2,
       "version_minor": 0
      },
      "text/plain": [
       "interactive(children=(IntSlider(value=0, description='idx', max=381), Output()), _dom_classes=('widget-interac…"
      ]
     },
     "metadata": {},
     "output_type": "display_data"
    }
   ],
   "source": [
    "interact(show_img_form_with_color, idx=widgets.IntSlider(min=0, max=len(pred_imgs_form)-1, step=1, value=0));"
   ]
  },
  {
   "cell_type": "markdown",
   "metadata": {},
   "source": [
    "## Aufgabe 5 – Optimierung und Evaluation des form- und farbbasierten Ansatzes"
   ]
  },
  {
   "cell_type": "code",
   "execution_count": 35,
   "metadata": {},
   "outputs": [],
   "source": [
    "# testing in small dataset\n",
    "import random\n",
    "import itertools\n",
    "\n",
    "\n",
    "#estimating parameters\n",
    "\n",
    "def estimating2(param1,param2):\n",
    "    result=[]\n",
    "    \n",
    "    names1 = PROHIBITORY_DICT.keys()\n",
    "\n",
    "    random.seed(56)\n",
    "    sample1=random.sample(names1,30)\n",
    "    pathes1=[os.path.join(DATA_PATH,f) for f in sample1]\n",
    "\n",
    "    #print(sample1)\n",
    "    #print(pathes1)\n",
    "    \n",
    "    combi_list=list(itertools.product(param1, param2))\n",
    "    for p1,p2 in combi_list:\n",
    "        pred_imgs_form, predicted_rect_rois = calculate_hough_cirles_with_Color(pathes1, \n",
    "                                                                                threshold_color=p1,\n",
    "                                                                                  d_p=1,\n",
    "                                                                                  min_dist=20, \n",
    "                                                                                  param1= 100, # no influence \n",
    "                                                                                  param2= p2, \n",
    "                                                                                  min_radius=10, \n",
    "                                                                                  max_radius=70) \n",
    "        small_gt_dict=dict(zip(sample1,  [ PROHIBITORY_DICT[s] for s in sample1]))\n",
    "        small_pred_dict=dict(zip(sample1,  [ predicted_rect_rois[s] for s in sample1]))\n",
    "        tp_form, fp_form, fn_form = evaluate_detection(small_gt_dict, small_pred_dict, similarity_threshold=0.6)\n",
    "        precision,recall=calculate_precision_recall(tp_form, fp_form, fn_form)\n",
    "        result.append([p1,p2,precision,recall])\n",
    "        \n",
    "    return result"
   ]
  },
  {
   "cell_type": "code",
   "execution_count": 36,
   "metadata": {},
   "outputs": [
    {
     "name": "stderr",
     "output_type": "stream",
     "text": [
      "D:\\Anaconda3\\envs\\py37\\lib\\site-packages\\ipykernel_launcher.py:49: RuntimeWarning: overflow encountered in ushort_scalars\n",
      "D:\\Anaconda3\\envs\\py37\\lib\\site-packages\\ipykernel_launcher.py:12: RuntimeWarning: overflow encountered in ushort_scalars\n",
      "  if sys.path[0] == '':\n",
      "D:\\Anaconda3\\envs\\py37\\lib\\site-packages\\ipykernel_launcher.py:14: RuntimeWarning: overflow encountered in ushort_scalars\n",
      "  \n"
     ]
    }
   ],
   "source": [
    "rst2=estimating2(np.arange(1,30,1),np.arange(5,100,10))"
   ]
  },
  {
   "cell_type": "code",
   "execution_count": 37,
   "metadata": {},
   "outputs": [
    {
     "data": {
      "text/plain": [
       "[[1, 5, 0.009523809523809525, 0.23076923076923078],\n",
       " [1, 15, 0.0425531914893617, 0.05128205128205128],\n",
       " [1, 25, 1.0, 0.05128205128205128],\n",
       " [1, 35, nan, 0.0],\n",
       " [1, 45, nan, 0.0],\n",
       " [1, 55, nan, 0.0],\n",
       " [1, 65, nan, 0.0],\n",
       " [1, 75, nan, 0.0],\n",
       " [1, 85, nan, 0.0],\n",
       " [1, 95, nan, 0.0],\n",
       " [2, 5, 0.009929078014184398, 0.358974358974359],\n",
       " [2, 15, 0.046153846153846156, 0.15384615384615385],\n",
       " [2, 25, 0.4, 0.05128205128205128],\n",
       " [2, 35, nan, 0.0],\n",
       " [2, 45, nan, 0.0],\n",
       " [2, 55, nan, 0.0],\n",
       " [2, 65, nan, 0.0],\n",
       " [2, 75, nan, 0.0],\n",
       " [2, 85, nan, 0.0],\n",
       " [2, 95, nan, 0.0],\n",
       " [3, 5, 0.0061318344404701075, 0.3076923076923077],\n",
       " [3, 15, 0.02857142857142857, 0.15384615384615385],\n",
       " [3, 25, 0.06896551724137931, 0.05128205128205128],\n",
       " [3, 35, 0.0, 0.0],\n",
       " [3, 45, nan, 0.0],\n",
       " [3, 55, nan, 0.0],\n",
       " [3, 65, nan, 0.0],\n",
       " [3, 75, nan, 0.0],\n",
       " [3, 85, nan, 0.0],\n",
       " [3, 95, nan, 0.0],\n",
       " [4, 5, 0.004606661941885188, 0.3333333333333333],\n",
       " [4, 15, 0.013422818791946308, 0.10256410256410256],\n",
       " [4, 25, 0.0273972602739726, 0.05128205128205128],\n",
       " [4, 35, 0.0, 0.0],\n",
       " [4, 45, nan, 0.0],\n",
       " [4, 55, nan, 0.0],\n",
       " [4, 65, nan, 0.0],\n",
       " [4, 75, nan, 0.0],\n",
       " [4, 85, nan, 0.0],\n",
       " [4, 95, nan, 0.0],\n",
       " [5, 5, 0.003965303593556382, 0.41025641025641024],\n",
       " [5, 15, 0.013856812933025405, 0.15384615384615385],\n",
       " [5, 25, 0.04201680672268908, 0.1282051282051282],\n",
       " [5, 35, 0.0, 0.0],\n",
       " [5, 45, nan, 0.0],\n",
       " [5, 55, nan, 0.0],\n",
       " [5, 65, nan, 0.0],\n",
       " [5, 75, nan, 0.0],\n",
       " [5, 85, nan, 0.0],\n",
       " [5, 95, nan, 0.0],\n",
       " [6, 5, 0.002618290630259959, 0.358974358974359],\n",
       " [6, 15, 0.01293103448275862, 0.23076923076923078],\n",
       " [6, 25, 0.041176470588235294, 0.1794871794871795],\n",
       " [6, 35, 0.0, 0.0],\n",
       " [6, 45, nan, 0.0],\n",
       " [6, 55, nan, 0.0],\n",
       " [6, 65, nan, 0.0],\n",
       " [6, 75, nan, 0.0],\n",
       " [6, 85, nan, 0.0],\n",
       " [6, 95, nan, 0.0],\n",
       " [7, 5, 0.0024279210925644916, 0.41025641025641024],\n",
       " [7, 15, 0.007339449541284404, 0.20512820512820512],\n",
       " [7, 25, 0.023809523809523808, 0.1794871794871795],\n",
       " [7, 35, 0.019230769230769232, 0.02564102564102564],\n",
       " [7, 45, 0.0, 0.0],\n",
       " [7, 55, nan, 0.0],\n",
       " [7, 65, nan, 0.0],\n",
       " [7, 75, nan, 0.0],\n",
       " [7, 85, nan, 0.0],\n",
       " [7, 95, nan, 0.0],\n",
       " [8, 5, 0.001799640071985603, 0.38461538461538464],\n",
       " [8, 15, 0.007930785868781542, 0.28205128205128205],\n",
       " [8, 25, 0.013477088948787063, 0.1282051282051282],\n",
       " [8, 35, 0.013888888888888888, 0.02564102564102564],\n",
       " [8, 45, 0.0, 0.0],\n",
       " [8, 55, nan, 0.0],\n",
       " [8, 65, nan, 0.0],\n",
       " [8, 75, nan, 0.0],\n",
       " [8, 85, nan, 0.0],\n",
       " [8, 95, nan, 0.0],\n",
       " [9, 5, 0.001562347427009081, 0.41025641025641024],\n",
       " [9, 15, 0.004997223764575236, 0.23076923076923078],\n",
       " [9, 25, 0.011737089201877934, 0.1282051282051282],\n",
       " [9, 35, 0.022222222222222223, 0.05128205128205128],\n",
       " [9, 45, 0.0, 0.0],\n",
       " [9, 55, nan, 0.0],\n",
       " [9, 65, nan, 0.0],\n",
       " [9, 75, nan, 0.0],\n",
       " [9, 85, nan, 0.0],\n",
       " [9, 95, nan, 0.0],\n",
       " [10, 5, 0.0013920733704552899, 0.4358974358974359],\n",
       " [10, 15, 0.005704256252742431, 0.3333333333333333],\n",
       " [10, 25, 0.0111731843575419, 0.15384615384615385],\n",
       " [10, 35, 0.018691588785046728, 0.05128205128205128],\n",
       " [10, 45, 0.0, 0.0],\n",
       " [10, 55, nan, 0.0],\n",
       " [10, 65, nan, 0.0],\n",
       " [10, 75, nan, 0.0],\n",
       " [10, 85, nan, 0.0],\n",
       " [10, 95, nan, 0.0],\n",
       " [11, 5, 0.0012779552715654952, 0.46153846153846156],\n",
       " [11, 15, 0.005246589716684155, 0.38461538461538464],\n",
       " [11, 25, 0.0085995085995086, 0.1794871794871795],\n",
       " [11, 35, 0.008733624454148471, 0.05128205128205128],\n",
       " [11, 45, 0.0, 0.0],\n",
       " [11, 55, nan, 0.0],\n",
       " [11, 65, nan, 0.0],\n",
       " [11, 75, nan, 0.0],\n",
       " [11, 85, nan, 0.0],\n",
       " [11, 95, nan, 0.0],\n",
       " [12, 5, 0.0013157070359000062, 0.5384615384615384],\n",
       " [12, 15, 0.0043975373790677225, 0.38461538461538464],\n",
       " [12, 25, 0.006141248720573183, 0.15384615384615385],\n",
       " [12, 35, 0.0025575447570332483, 0.02564102564102564],\n",
       " [12, 45, 0.0, 0.0],\n",
       " [12, 55, nan, 0.0],\n",
       " [12, 65, nan, 0.0],\n",
       " [12, 75, nan, 0.0],\n",
       " [12, 85, nan, 0.0],\n",
       " [12, 95, nan, 0.0],\n",
       " [13, 5, 0.0011891279728199321, 0.5384615384615384],\n",
       " [13, 15, 0.0031815956926089083, 0.3333333333333333],\n",
       " [13, 25, 0.003676470588235294, 0.10256410256410256],\n",
       " [13, 35, 0.0033222591362126247, 0.02564102564102564],\n",
       " [13, 45, 0.0, 0.0],\n",
       " [13, 55, nan, 0.0],\n",
       " [13, 65, nan, 0.0],\n",
       " [13, 75, nan, 0.0],\n",
       " [13, 85, nan, 0.0],\n",
       " [13, 95, nan, 0.0],\n",
       " [14, 5, 0.0010247476558897372, 0.5128205128205128],\n",
       " [14, 15, 0.003305102251600909, 0.41025641025641024],\n",
       " [14, 25, 0.005479452054794521, 0.15384615384615385],\n",
       " [14, 35, 0.00546448087431694, 0.02564102564102564],\n",
       " [14, 45, 0.0, 0.0],\n",
       " [14, 55, nan, 0.0],\n",
       " [14, 65, nan, 0.0],\n",
       " [14, 75, nan, 0.0],\n",
       " [14, 85, nan, 0.0],\n",
       " [14, 95, nan, 0.0],\n",
       " [15, 5, 0.001011755636924263, 0.5384615384615384],\n",
       " [15, 15, 0.002883922134102379, 0.41025641025641024],\n",
       " [15, 25, 0.0060882800608828, 0.20512820512820512],\n",
       " [15, 35, 0.004975124378109453, 0.02564102564102564],\n",
       " [15, 45, 0.0, 0.0],\n",
       " [15, 55, nan, 0.0],\n",
       " [15, 65, nan, 0.0],\n",
       " [15, 75, nan, 0.0],\n",
       " [15, 85, nan, 0.0],\n",
       " [15, 95, nan, 0.0],\n",
       " [16, 5, 0.0009140767824497258, 0.5128205128205128],\n",
       " [16, 15, 0.0026666666666666666, 0.4358974358974359],\n",
       " [16, 25, 0.0058823529411764705, 0.2564102564102564],\n",
       " [16, 35, 0.006993006993006993, 0.05128205128205128],\n",
       " [16, 45, 0.0, 0.0],\n",
       " [16, 55, nan, 0.0],\n",
       " [16, 65, nan, 0.0],\n",
       " [16, 75, nan, 0.0],\n",
       " [16, 85, nan, 0.0],\n",
       " [16, 95, nan, 0.0],\n",
       " [17, 5, 0.0008386299435028248, 0.48717948717948717],\n",
       " [17, 15, 0.002807411566535654, 0.5128205128205128],\n",
       " [17, 25, 0.004659832246039142, 0.2564102564102564],\n",
       " [17, 35, 0.005305039787798408, 0.05128205128205128],\n",
       " [17, 45, 0.0, 0.0],\n",
       " [17, 55, nan, 0.0],\n",
       " [17, 65, nan, 0.0],\n",
       " [17, 75, nan, 0.0],\n",
       " [17, 85, nan, 0.0],\n",
       " [17, 95, nan, 0.0],\n",
       " [18, 5, 0.0006817503941369466, 0.41025641025641024],\n",
       " [18, 15, 0.0020395156150414275, 0.41025641025641024],\n",
       " [18, 25, 0.004061738424045491, 0.2564102564102564],\n",
       " [18, 35, 0.006772009029345372, 0.07692307692307693],\n",
       " [18, 45, 0.0, 0.0],\n",
       " [18, 55, nan, 0.0],\n",
       " [18, 65, nan, 0.0],\n",
       " [18, 75, nan, 0.0],\n",
       " [18, 85, nan, 0.0],\n",
       " [18, 95, nan, 0.0],\n",
       " [19, 5, 0.000754084625052367, 0.46153846153846156],\n",
       " [19, 15, 0.0015483563601715103, 0.3333333333333333],\n",
       " [19, 25, 0.003312476996687523, 0.23076923076923078],\n",
       " [19, 35, 0.00375234521575985, 0.05128205128205128],\n",
       " [19, 45, 0.03571428571428571, 0.02564102564102564],\n",
       " [19, 55, nan, 0.0],\n",
       " [19, 65, nan, 0.0],\n",
       " [19, 75, nan, 0.0],\n",
       " [19, 85, nan, 0.0],\n",
       " [19, 95, nan, 0.0],\n",
       " [20, 5, 0.0006151827092646516, 0.38461538461538464],\n",
       " [20, 15, 0.0015562472209871053, 0.358974358974359],\n",
       " [20, 25, 0.0034118048447628795, 0.2564102564102564],\n",
       " [20, 35, 0.001652892561983471, 0.02564102564102564],\n",
       " [20, 45, 0.0, 0.0],\n",
       " [20, 55, nan, 0.0],\n",
       " [20, 65, nan, 0.0],\n",
       " [20, 75, nan, 0.0],\n",
       " [20, 85, nan, 0.0],\n",
       " [20, 95, nan, 0.0],\n",
       " [21, 5, 0.0007678629162625283, 0.48717948717948717],\n",
       " [21, 15, 0.0013835674755214985, 0.3333333333333333],\n",
       " [21, 25, 0.003202049311559398, 0.2564102564102564],\n",
       " [21, 35, 0.004464285714285714, 0.07692307692307693],\n",
       " [21, 45, 0.058823529411764705, 0.05128205128205128],\n",
       " [21, 55, nan, 0.0],\n",
       " [21, 65, nan, 0.0],\n",
       " [21, 75, nan, 0.0],\n",
       " [21, 85, nan, 0.0],\n",
       " [21, 95, nan, 0.0],\n",
       " [22, 5, 0.0007596657470712886, 0.48717948717948717],\n",
       " [22, 15, 0.001955134801399465, 0.48717948717948717],\n",
       " [22, 25, 0.0033222591362126247, 0.28205128205128205],\n",
       " [22, 35, 0.0015220700152207, 0.02564102564102564],\n",
       " [22, 45, 0.0, 0.0],\n",
       " [22, 55, nan, 0.0],\n",
       " [22, 65, nan, 0.0],\n",
       " [22, 75, nan, 0.0],\n",
       " [22, 85, nan, 0.0],\n",
       " [22, 95, nan, 0.0],\n",
       " [23, 5, 0.0006327361885553842, 0.41025641025641024],\n",
       " [23, 15, 0.0013915117781532651, 0.358974358974359],\n",
       " [23, 25, 0.00291970802919708, 0.2564102564102564],\n",
       " [23, 35, 0.0015060240963855422, 0.02564102564102564],\n",
       " [23, 45, 0.0, 0.0],\n",
       " [23, 55, nan, 0.0],\n",
       " [23, 65, nan, 0.0],\n",
       " [23, 75, nan, 0.0],\n",
       " [23, 85, nan, 0.0],\n",
       " [23, 95, nan, 0.0],\n",
       " [24, 5, 0.0007051909892262487, 0.46153846153846156],\n",
       " [24, 15, 0.0012616459627329193, 0.3333333333333333],\n",
       " [24, 25, 0.0026246719160104987, 0.23076923076923078],\n",
       " [24, 35, 0.0014144271570014145, 0.02564102564102564],\n",
       " [24, 45, 0.09090909090909091, 0.05128205128205128],\n",
       " [24, 55, nan, 0.0],\n",
       " [24, 65, nan, 0.0],\n",
       " [24, 75, nan, 0.0],\n",
       " [24, 85, nan, 0.0],\n",
       " [24, 95, nan, 0.0],\n",
       " [25, 5, 0.0007014809041309431, 0.46153846153846156],\n",
       " [25, 15, 0.001339200306102927, 0.358974358974359],\n",
       " [25, 25, 0.0028256569652444193, 0.2564102564102564],\n",
       " [25, 35, 0.002861230329041488, 0.05128205128205128],\n",
       " [25, 45, 0.11764705882352941, 0.05128205128205128],\n",
       " [25, 55, nan, 0.0],\n",
       " [25, 65, nan, 0.0],\n",
       " [25, 75, nan, 0.0],\n",
       " [25, 85, nan, 0.0],\n",
       " [25, 95, nan, 0.0],\n",
       " [26, 5, 0.0007349528082933622, 0.48717948717948717],\n",
       " [26, 15, 0.001325883132872431, 0.358974358974359],\n",
       " [26, 25, 0.0027816411682892906, 0.2564102564102564],\n",
       " [26, 35, 0.0028328611898017, 0.05128205128205128],\n",
       " [26, 45, 0.18181818181818182, 0.05128205128205128],\n",
       " [26, 55, nan, 0.0],\n",
       " [26, 65, nan, 0.0],\n",
       " [26, 75, nan, 0.0],\n",
       " [26, 85, nan, 0.0],\n",
       " [26, 95, nan, 0.0],\n",
       " [27, 5, 0.0007703270038131187, 0.5128205128205128],\n",
       " [27, 15, 0.0013256320424202253, 0.358974358974359],\n",
       " [27, 25, 0.0027979854504756574, 0.2564102564102564],\n",
       " [27, 35, 0.0029585798816568047, 0.05128205128205128],\n",
       " [27, 45, 0.125, 0.05128205128205128],\n",
       " [27, 55, nan, 0.0],\n",
       " [27, 65, nan, 0.0],\n",
       " [27, 75, nan, 0.0],\n",
       " [27, 85, nan, 0.0],\n",
       " [27, 95, nan, 0.0],\n",
       " [28, 5, 0.0007254400366538124, 0.48717948717948717],\n",
       " [28, 15, 0.0011242270938729624, 0.3076923076923077],\n",
       " [28, 25, 0.0025111607142857145, 0.23076923076923078],\n",
       " [28, 35, 0.00473186119873817, 0.07692307692307693],\n",
       " [28, 45, 0.15384615384615385, 0.05128205128205128],\n",
       " [28, 55, nan, 0.0],\n",
       " [28, 65, nan, 0.0],\n",
       " [28, 75, nan, 0.0],\n",
       " [28, 85, nan, 0.0],\n",
       " [28, 95, nan, 0.0],\n",
       " [29, 5, 0.0007252185197908317, 0.48717948717948717],\n",
       " [29, 15, 0.0011244377811094452, 0.3076923076923077],\n",
       " [29, 25, 0.0022995113538373095, 0.20512820512820512],\n",
       " [29, 35, 0.003284072249589491, 0.05128205128205128],\n",
       " [29, 45, 0.25, 0.05128205128205128],\n",
       " [29, 55, nan, 0.0],\n",
       " [29, 65, nan, 0.0],\n",
       " [29, 75, nan, 0.0],\n",
       " [29, 85, nan, 0.0],\n",
       " [29, 95, nan, 0.0]]"
      ]
     },
     "execution_count": 37,
     "metadata": {},
     "output_type": "execute_result"
    }
   ],
   "source": [
    "rst2\n",
    "\n",
    "### voting value is not allow too big"
   ]
  },
  {
   "cell_type": "code",
   "execution_count": 38,
   "metadata": {},
   "outputs": [
    {
     "name": "stderr",
     "output_type": "stream",
     "text": [
      "D:\\Anaconda3\\envs\\py37\\lib\\site-packages\\ipykernel_launcher.py:49: RuntimeWarning: overflow encountered in ushort_scalars\n",
      "D:\\Anaconda3\\envs\\py37\\lib\\site-packages\\ipykernel_launcher.py:12: RuntimeWarning: overflow encountered in ushort_scalars\n",
      "  if sys.path[0] == '':\n",
      "D:\\Anaconda3\\envs\\py37\\lib\\site-packages\\ipykernel_launcher.py:14: RuntimeWarning: overflow encountered in ushort_scalars\n",
      "  \n"
     ]
    },
    {
     "data": {
      "image/png": "[encoded data removed]",
      "text/plain": [
       "<Figure size 576x576 with 1 Axes>"
      ]
     },
     "metadata": {
      "needs_background": "light"
     },
     "output_type": "display_data"
    }
   ],
   "source": [
    "# Precision-Recall-Plot\n",
    "### TO DO ###\n",
    "####################################################\n",
    "######  diese Zelle sehr zeitaufwändig  !!!!!!\n",
    "####################################################\n",
    "###testing parameter 1-> color threshold\n",
    "p_color=np.arange(1,31,1)\n",
    "precision_list=[]\n",
    "recall_list=[]\n",
    "pred_dict_list=[]\n",
    "\n",
    "for p in p_color:\n",
    "    pred_imgs_form, predicted_rect_rois = calculate_hough_cirles_with_Color(PROHIBITORY_FILEPATHS, \n",
    "                                                    threshold_color=p,\n",
    "                                                      d_p=1,\n",
    "                                                      min_dist=20, \n",
    "                                                      param1= 100, \n",
    "                                                      param2= 25, \n",
    "                                                      min_radius=10, \n",
    "                                                      max_radius=70) \n",
    "    pred_dict_list.append(predicted_rect_rois)\n",
    "    \n",
    "for pred_dict in pred_dict_list:\n",
    "    tp_form, fp_form, fn_form = evaluate_detection(PROHIBITORY_DICT, pred_dict, similarity_threshold=0.6)\n",
    "    precision, recall=calculate_precision_recall(tp_form, fp_form, fn_form)\n",
    "    precision_list.append(precision)\n",
    "    recall_list.append(recall)\n",
    "    \n",
    "plt.figure(figsize=(8,8))\n",
    "plt.xlabel('Precision')\n",
    "plt.ylabel('Recall')\n",
    "plt.xlim(0, 1)\n",
    "plt.ylim(0,1)\n",
    "plt.xticks(np.linspace(0, 1,11))\n",
    "plt.yticks(np.linspace(0, 1,11))\n",
    "plt.title('Precision-Recall-Plot')\n",
    "plt.plot(precision_list,recall_list)\n",
    "plt.legend(['color threshold value of HSV -Hue varies from 1 to 30 ,step by 1\\n voting threshold of hough-circle is fixed at 25'])\n",
    "plt.show()"
   ]
  },
  {
   "cell_type": "code",
   "execution_count": 39,
   "metadata": {},
   "outputs": [
    {
     "name": "stderr",
     "output_type": "stream",
     "text": [
      "D:\\Anaconda3\\envs\\py37\\lib\\site-packages\\ipykernel_launcher.py:49: RuntimeWarning: overflow encountered in ushort_scalars\n",
      "D:\\Anaconda3\\envs\\py37\\lib\\site-packages\\ipykernel_launcher.py:12: RuntimeWarning: overflow encountered in ushort_scalars\n",
      "  if sys.path[0] == '':\n",
      "D:\\Anaconda3\\envs\\py37\\lib\\site-packages\\ipykernel_launcher.py:14: RuntimeWarning: overflow encountered in ushort_scalars\n",
      "  \n"
     ]
    },
    {
     "data": {
      "image/png": "[encoded data removed]",
      "text/plain": [
       "<Figure size 576x576 with 1 Axes>"
      ]
     },
     "metadata": {
      "needs_background": "light"
     },
     "output_type": "display_data"
    }
   ],
   "source": [
    "# Precision-Recall-Plot\n",
    "### TO DO ###\n",
    "\n",
    "####################################################\n",
    "######  diese Zelle sehr zeitaufwändig  !!!!!!\n",
    "####################################################\n",
    "###testing parameter 2-> voting threshodl  for hough-circle\n",
    "p_voting2=np.arange(3,80,3)\n",
    "precision_list=[]\n",
    "recall_list=[]\n",
    "pred_dict_list=[]\n",
    "\n",
    "for p in p_voting2:\n",
    "    pred_imgs_form, predicted_rect_rois = calculate_hough_cirles_with_Color(PROHIBITORY_FILEPATHS, \n",
    "                                                    threshold_color=10,\n",
    "                                                      d_p=1,\n",
    "                                                      min_dist=20, \n",
    "                                                      param1= 40, \n",
    "                                                      param2= p, \n",
    "                                                      min_radius=10, \n",
    "                                                      max_radius=70) \n",
    "    pred_dict_list.append(predicted_rect_rois)\n",
    "    \n",
    "for pred_dict in pred_dict_list:\n",
    "    tp_form, fp_form, fn_form = evaluate_detection(PROHIBITORY_DICT, pred_dict, similarity_threshold=0.6)\n",
    "    precision, recall=calculate_precision_recall(tp_form, fp_form, fn_form)\n",
    "    precision_list.append(precision)\n",
    "    recall_list.append(recall)\n",
    "    \n",
    "plt.figure(figsize=(8,8))\n",
    "plt.xlabel('Precision')\n",
    "plt.ylabel('Recall')\n",
    "plt.xlim(0, 1)\n",
    "plt.ylim(0,1)\n",
    "plt.xticks(np.linspace(0, 1,11))\n",
    "plt.yticks(np.linspace(0, 1,11))\n",
    "plt.title('Precision-Recall-Plot')\n",
    "plt.plot(precision_list,recall_list)\n",
    "plt.legend(['voting threshold value of canny() varies from 3 to 78 ,step by 3 \\n color threshold value of HSV -Hue is fixed at 10'])\n",
    "plt.show()"
   ]
  },
  {
   "cell_type": "code",
   "execution_count": null,
   "metadata": {},
   "outputs": [],
   "source": []
  },
  {
   "cell_type": "code",
   "execution_count": null,
   "metadata": {},
   "outputs": [],
   "source": []
  }
 ],
 "metadata": {
  "kernelspec": {
   "display_name": "Python 3",
   "language": "python",
   "name": "python3"
  },
  "language_info": {
   "codemirror_mode": {
    "name": "ipython",
    "version": 3
   },
   "file_extension": ".py",
   "mimetype": "text/x-python",
   "name": "python",
   "nbconvert_exporter": "python",
   "pygments_lexer": "ipython3",
   "version": "3.7.7"
  }
 },
 "nbformat": 4,
 "nbformat_minor": 4
}
